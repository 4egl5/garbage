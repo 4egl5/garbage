{
 "cells": [
  {
   "cell_type": "markdown",
   "metadata": {},
   "source": [
    "## Steps\n",
    "- 1. Get the live video feed from your webcam\n",
    "- 2. Fix a scene (the place you want to monitor) and store it as a reference background image\n",
    "    - Store the first frame as the reference background frame\n",
    "- 3. For every frame, check if there is any unwanted object inside the scene you are monitoring\n",
    "    - Use **Background Subtraction** concept (**cv2.absdiff( )**)\n",
    "        - Subtract the current frame from the reference background image(frame) to see the changes in the scene\n",
    "        - If there is enormous amount of pixels distrubed in the subtraction result image\n",
    "            - unwanted visitor (place is unsafe --> alarm the authorities)\n",
    "        - If there is no enormous amount of pixels distrubed in the subtraction result image\n",
    "            - no unwanted visitor (place is safe)\n",
    "- 4. Output the text **\"UNSAFE\"** in **red** color on the top right of the frame when there is an intruder in the scene.\n",
    "- 5. Save the live feed\n",
    "- 6. Submit the (.ipynb) file"
   ]
  },
  {
   "cell_type": "markdown",
   "metadata": {},
   "source": [
    "- For devices using wayland, opencv may crash the notebook if using cv2.imshow(), thats why this notebook use matplotlib to display the images\n",
    "- For devices not using wayland replace `plt.imshow(...)` to `cv2.imshow(\"...\", ...)` and replace `plt.show()` to `cv2.waitKey(0)`"
   ]
  },
  {
   "cell_type": "markdown",
   "metadata": {},
   "source": [
    "## Get live video feed from webcam [10 points]"
   ]
  },
  {
   "cell_type": "code",
   "execution_count": null,
   "metadata": {},
   "outputs": [],
   "source": [
    "# !pip3 install opencv-python matplotlib numpy\n",
    "import cv2\n",
    "import numpy as np\n",
    "from matplotlib import pyplot as plt\n",
    "video_capture = cv2.VideoCapture(0)\n"
   ]
  },
  {
   "cell_type": "markdown",
   "metadata": {},
   "source": [
    "## Read first frame, convert to Grayscale and store it as reference background image"
   ]
  },
  {
   "cell_type": "code",
   "execution_count": null,
   "metadata": {},
   "outputs": [],
   "source": [
    "ret, frame = video_capture.read()\n",
    "gray = cv2.cvtColor(frame, cv2.COLOR_BGR2GRAY)\n",
    "    \n",
    "plt.imshow(gray, cmap = \"gray\")\n",
    "plt.show()"
   ]
  },
  {
   "cell_type": "markdown",
   "metadata": {},
   "source": [
    "## Compute Absolute Difference between Current and First frame"
   ]
  },
  {
   "cell_type": "code",
   "execution_count": null,
   "metadata": {},
   "outputs": [],
   "source": [
    "save = cv2.VideoWriter('output_0.avi', cv2.VideoWriter_fourcc(*\"mp4v\"), 10, (1280,720))\n",
    "while True:\n",
    "    ret, frame = video_capture.read()\n",
    "    save.write(frame)\n",
    "    if not ret:\n",
    "        print(\"Error: Could not read frame.\")\n",
    "        break\n",
    "    current_frame_gray = cv2.cvtColor(frame, cv2.COLOR_BGR2GRAY)\n",
    "    abs_diff = cv2.absdiff(gray, current_frame_gray)\n",
    "    cv2.imshow('Absolute Difference', abs_diff)\n",
    "# press esc\n",
    "    if cv2.waitKey(30) & 0xFF == 27:\n",
    "        cv2.destroyAllWindows()\n",
    "        break\n",
    "save.release()\n",
    "plt.imshow(frame, cmap=\"gray\")\n",
    "plt.show()"
   ]
  },
  {
   "cell_type": "code",
   "execution_count": null,
   "metadata": {},
   "outputs": [],
   "source": [
    "plt.imshow(abs_diff, cmap=\"gray\")\n",
    "plt.show()\n"
   ]
  },
  {
   "cell_type": "markdown",
   "metadata": {},
   "source": [
    "## Apply threshold"
   ]
  },
  {
   "cell_type": "code",
   "execution_count": null,
   "metadata": {},
   "outputs": [],
   "source": [
    "thresholded = cv2.GaussianBlur(abs_diff, (3,3),0)\n",
    "thresholded = cv2.erode(thresholded, None, iterations=3)\n",
    "thresholded = cv2.dilate(thresholded, None, iterations=3)\n",
    "\n",
    "thresholded = cv2.threshold(thresholded, 20, 255, cv2.THRESH_BINARY_INV)[1]\n",
    "plt.imshow(thresholded, cmap=\"gray\")\n",
    "plt.show()\n"
   ]
  },
  {
   "cell_type": "markdown",
   "metadata": {},
   "source": [
    "## Find contours"
   ]
  },
  {
   "cell_type": "code",
   "execution_count": null,
   "metadata": {},
   "outputs": [],
   "source": [
    "# thresholded = cv2.Canny(thresholded,20,185)\n",
    "# plt.imshow(thresholded,cmap=\"gray\")"
   ]
  },
  {
   "cell_type": "code",
   "execution_count": null,
   "metadata": {},
   "outputs": [],
   "source": [
    "contours, _ = cv2.findContours(thresholded, cv2.RETR_EXTERNAL, cv2.CHAIN_APPROX_SIMPLE)\n",
    "frame_with_contours = thresholded.copy()\n",
    "cv2.drawContours(frame_with_contours, contours, -1, (0, 255, 0), 2)  # -1 means draw all contours\n",
    "plt.imshow(frame_with_contours,cmap=\"gray\")\n",
    "plt.show()\n"
   ]
  },
  {
   "cell_type": "markdown",
   "metadata": {},
   "source": [
    "## Check if contourArea is large and draw rectangle around the object, output \"UNSAFE\" text in red color"
   ]
  },
  {
   "cell_type": "code",
   "execution_count": null,
   "metadata": {},
   "outputs": [],
   "source": [
    "  for contour in contours:\n",
    "        area = cv2.contourArea(contour)\n",
    "        if area > 1000: \n",
    "            x, y, w, h = cv2.boundingRect(contour)\n",
    "            cv2.rectangle(frame, (x, y), (x + w, y + h), (0, 255, 0), 2) \n",
    "            cv2.putText(frame, \"UNSAFE\", (x, y - 10), cv2.FONT_HERSHEY_SIMPLEX, 0.5, (255, 0, 0), 2)\n"
   ]
  },
  {
   "cell_type": "markdown",
   "metadata": {},
   "source": [
    "## Display images"
   ]
  },
  {
   "cell_type": "code",
   "execution_count": null,
   "metadata": {},
   "outputs": [],
   "source": [
    "plt.imshow(frame)\n",
    "plt.show()"
   ]
  },
  {
   "cell_type": "markdown",
   "metadata": {},
   "source": [
    "## Release objects"
   ]
  },
  {
   "cell_type": "code",
   "execution_count": null,
   "metadata": {},
   "outputs": [],
   "source": [
    "video_capture.release()\n"
   ]
  },
  {
   "cell_type": "code",
   "execution_count": null,
   "metadata": {},
   "outputs": [],
   "source": []
  }
 ],
 "metadata": {
  "kernelspec": {
   "display_name": "Python 3 (ipykernel)",
   "language": "python",
   "name": "python3"
  },
  "language_info": {
   "codemirror_mode": {
    "name": "ipython",
    "version": 3
   },
   "file_extension": ".py",
   "mimetype": "text/x-python",
   "name": "python",
   "nbconvert_exporter": "python",
   "pygments_lexer": "ipython3",
   "version": "3.10.13"
  }
 },
 "nbformat": 4,
 "nbformat_minor": 4
}
