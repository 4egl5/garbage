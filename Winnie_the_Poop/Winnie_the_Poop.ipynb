{
 "cells": [
  {
   "cell_type": "code",
   "execution_count": 7,
   "metadata": {},
   "outputs": [
    {
     "name": "stdout",
     "output_type": "stream",
     "text": [
      "Requirement already satisfied: yt-dlp in ./.venv/lib64/python3.12/site-packages (2023.11.16)\n",
      "Requirement already satisfied: opencv-python in ./.venv/lib64/python3.12/site-packages (4.8.1.78)\n",
      "Requirement already satisfied: matplotlib in ./.venv/lib64/python3.12/site-packages (3.8.2)\n",
      "Collecting moviepy\n",
      "  Downloading moviepy-1.0.3.tar.gz (388 kB)\n",
      "\u001b[2K     \u001b[90m━━━━━━━━━━━━━━━━━━━━━━━━━━━━━━━━━━━━━\u001b[0m \u001b[32m388.3/388.3 kB\u001b[0m \u001b[31m695.2 kB/s\u001b[0m eta \u001b[36m0:00:00\u001b[0ma \u001b[36m0:00:01\u001b[0m\n",
      "\u001b[?25h  Installing build dependencies ... \u001b[?25ldone\n",
      "\u001b[?25h  Getting requirements to build wheel ... \u001b[?25ldone\n",
      "\u001b[?25h  Preparing metadata (pyproject.toml) ... \u001b[?25ldone\n",
      "\u001b[?25hRequirement already satisfied: mutagen in ./.venv/lib64/python3.12/site-packages (from yt-dlp) (1.47.0)\n",
      "Requirement already satisfied: pycryptodomex in ./.venv/lib64/python3.12/site-packages (from yt-dlp) (3.19.0)\n",
      "Requirement already satisfied: websockets in ./.venv/lib64/python3.12/site-packages (from yt-dlp) (12.0)\n",
      "Requirement already satisfied: certifi in ./.venv/lib64/python3.12/site-packages (from yt-dlp) (2023.11.17)\n",
      "Requirement already satisfied: requests<3,>=2.31.0 in ./.venv/lib64/python3.12/site-packages (from yt-dlp) (2.31.0)\n",
      "Requirement already satisfied: urllib3<3,>=1.26.17 in ./.venv/lib64/python3.12/site-packages (from yt-dlp) (2.1.0)\n",
      "Requirement already satisfied: brotli in ./.venv/lib64/python3.12/site-packages (from yt-dlp) (1.1.0)\n",
      "Requirement already satisfied: numpy>=1.21.2 in ./.venv/lib64/python3.12/site-packages (from opencv-python) (1.26.2)\n",
      "Requirement already satisfied: contourpy>=1.0.1 in ./.venv/lib64/python3.12/site-packages (from matplotlib) (1.2.0)\n",
      "Requirement already satisfied: cycler>=0.10 in ./.venv/lib64/python3.12/site-packages (from matplotlib) (0.12.1)\n",
      "Requirement already satisfied: fonttools>=4.22.0 in ./.venv/lib64/python3.12/site-packages (from matplotlib) (4.45.1)\n",
      "Requirement already satisfied: kiwisolver>=1.3.1 in ./.venv/lib64/python3.12/site-packages (from matplotlib) (1.4.5)\n",
      "Requirement already satisfied: packaging>=20.0 in ./.venv/lib64/python3.12/site-packages (from matplotlib) (23.2)\n",
      "Requirement already satisfied: pillow>=8 in ./.venv/lib64/python3.12/site-packages (from matplotlib) (10.1.0)\n",
      "Requirement already satisfied: pyparsing>=2.3.1 in ./.venv/lib64/python3.12/site-packages (from matplotlib) (3.1.1)\n",
      "Requirement already satisfied: python-dateutil>=2.7 in ./.venv/lib64/python3.12/site-packages (from matplotlib) (2.8.2)\n",
      "Collecting decorator<5.0,>=4.0.2 (from moviepy)\n",
      "  Downloading decorator-4.4.2-py2.py3-none-any.whl (9.2 kB)\n",
      "Collecting tqdm<5.0,>=4.11.2 (from moviepy)\n",
      "  Using cached tqdm-4.66.1-py3-none-any.whl.metadata (57 kB)\n",
      "Collecting proglog<=1.0.0 (from moviepy)\n",
      "  Downloading proglog-0.1.10-py3-none-any.whl (6.1 kB)\n",
      "Collecting imageio<3.0,>=2.5 (from moviepy)\n",
      "  Downloading imageio-2.33.0-py3-none-any.whl.metadata (4.9 kB)\n",
      "Collecting imageio-ffmpeg>=0.2.0 (from moviepy)\n",
      "  Downloading imageio_ffmpeg-0.4.9-py3-none-manylinux2010_x86_64.whl.metadata (1.7 kB)\n",
      "Collecting setuptools (from imageio-ffmpeg>=0.2.0->moviepy)\n",
      "  Using cached setuptools-69.0.2-py3-none-any.whl.metadata (6.3 kB)\n",
      "Requirement already satisfied: six>=1.5 in ./.venv/lib64/python3.12/site-packages (from python-dateutil>=2.7->matplotlib) (1.16.0)\n",
      "Requirement already satisfied: charset-normalizer<4,>=2 in ./.venv/lib64/python3.12/site-packages (from requests<3,>=2.31.0->yt-dlp) (3.3.2)\n",
      "Requirement already satisfied: idna<4,>=2.5 in ./.venv/lib64/python3.12/site-packages (from requests<3,>=2.31.0->yt-dlp) (3.6)\n",
      "Downloading imageio-2.33.0-py3-none-any.whl (313 kB)\n",
      "\u001b[2K   \u001b[90m━━━━━━━━━━━━━━━━━━━━━━━━━━━━━━━━━━━━━━━━\u001b[0m \u001b[32m313.3/313.3 kB\u001b[0m \u001b[31m2.2 MB/s\u001b[0m eta \u001b[36m0:00:00\u001b[0m00:01\u001b[0m00:01\u001b[0m\n",
      "\u001b[?25hDownloading imageio_ffmpeg-0.4.9-py3-none-manylinux2010_x86_64.whl (26.9 MB)\n",
      "\u001b[2K   \u001b[90m━━━━━━━━━━━━━━━━━━━━━━━━━━━━━━━━━━━━━━━━\u001b[0m \u001b[32m26.9/26.9 MB\u001b[0m \u001b[31m7.9 MB/s\u001b[0m eta \u001b[36m0:00:00\u001b[0m00:01\u001b[0m00:01\u001b[0m\n",
      "\u001b[?25hUsing cached tqdm-4.66.1-py3-none-any.whl (78 kB)\n",
      "Using cached setuptools-69.0.2-py3-none-any.whl (819 kB)\n",
      "Building wheels for collected packages: moviepy\n",
      "  Building wheel for moviepy (pyproject.toml) ... \u001b[?25ldone\n",
      "\u001b[?25h  Created wheel for moviepy: filename=moviepy-1.0.3-py3-none-any.whl size=110720 sha256=2b0404dab946dfbe8f5cf99866705e1d75224729642723823ec727ff2e2cdebc\n",
      "  Stored in directory: /home/vostok/.cache/pip/wheels/df/ba/4b/0917fc0c8833c8ba7016565fc975b74c67bc8610806e930272\n",
      "Successfully built moviepy\n",
      "Installing collected packages: tqdm, setuptools, imageio, decorator, proglog, imageio-ffmpeg, moviepy\n",
      "  Attempting uninstall: decorator\n",
      "    Found existing installation: decorator 5.1.1\n",
      "    Uninstalling decorator-5.1.1:\n",
      "      Successfully uninstalled decorator-5.1.1\n",
      "Successfully installed decorator-4.4.2 imageio-2.33.0 imageio-ffmpeg-0.4.9 moviepy-1.0.3 proglog-0.1.10 setuptools-69.0.2 tqdm-4.66.1\n"
     ]
    }
   ],
   "source": [
    "!pip3 install yt-dlp opencv-python matplotlib moviepy"
   ]
  },
  {
   "cell_type": "code",
   "execution_count": 5,
   "metadata": {},
   "outputs": [
    {
     "name": "stdout",
     "output_type": "stream",
     "text": [
      "[youtube] Extracting URL: https://www.youtube.com/watch?v=GgWM-QU-Yew\n",
      "[youtube] GgWM-QU-Yew: Downloading webpage\n"
     ]
    },
    {
     "name": "stderr",
     "output_type": "stream",
     "text": [
      "WARNING: [youtube] Unable to download webpage: HTTP Error 429: Too Many Requests\n"
     ]
    },
    {
     "name": "stdout",
     "output_type": "stream",
     "text": [
      "[youtube] GgWM-QU-Yew: Downloading ios player API JSON\n",
      "[youtube] GgWM-QU-Yew: Downloading android player API JSON\n",
      "[youtube] GgWM-QU-Yew: Downloading iframe API JS\n",
      "[youtube] GgWM-QU-Yew: Downloading player 63e90c30\n",
      "[youtube] GgWM-QU-Yew: Downloading web player API JSON\n",
      "[youtube] GgWM-QU-Yew: Downloading m3u8 information\n",
      "[youtube] GgWM-QU-Yew: Downloading initial data API JSON\n",
      "[info] GgWM-QU-Yew: Downloading 1 format(s): 248+251\n",
      "[download] Destination: Xi Says China Will Not Fight Cold or Hot War With Anyone [GgWM-QU-Yew].f248.webm\n",
      "[download] 100% of    2.05MiB in 00:00:01 at 1.61MiB/s   \n",
      "[download] Destination: Xi Says China Will Not Fight Cold or Hot War With Anyone [GgWM-QU-Yew].f251.webm\n",
      "[download] 100% of  575.87KiB in 00:00:01 at 481.83KiB/s \n",
      "[Merger] Merging formats into \"Xi Says China Will Not Fight Cold or Hot War With Anyone [GgWM-QU-Yew].webm\"\n",
      "Deleting original file Xi Says China Will Not Fight Cold or Hot War With Anyone [GgWM-QU-Yew].f251.webm (pass -k to keep)\n",
      "Deleting original file Xi Says China Will Not Fight Cold or Hot War With Anyone [GgWM-QU-Yew].f248.webm (pass -k to keep)\n"
     ]
    },
    {
     "data": {
      "text/plain": [
       "0"
      ]
     },
     "execution_count": 5,
     "metadata": {},
     "output_type": "execute_result"
    }
   ],
   "source": [
    "from yt_dlp import YoutubeDL\n",
    "YoutubeDL().download(\"https://www.youtube.com/watch?v=GgWM-QU-Yew\")"
   ]
  },
  {
   "cell_type": "code",
   "execution_count": 1,
   "metadata": {},
   "outputs": [],
   "source": [
    "import cv2\n",
    "import os\n",
    "import matplotlib.pyplot as plt\n",
    "import warnings\n",
    "# warnings.filterwarnings(action=\"ignore\")"
   ]
  },
  {
   "cell_type": "code",
   "execution_count": 2,
   "metadata": {},
   "outputs": [],
   "source": [
    "faceCasacadeClassifier= cv2.CascadeClassifier(os.path.dirname(cv2.__file__)+\"/data/haarcascade_frontalface_alt2.xml\")"
   ]
  },
  {
   "cell_type": "code",
   "execution_count": 3,
   "metadata": {},
   "outputs": [],
   "source": [
    "video = cv2.VideoCapture(\"Xi Says China Will Not Fight Cold or Hot War With Anyone [GgWM-QU-Yew].webm\")"
   ]
  },
  {
   "cell_type": "code",
   "execution_count": null,
   "metadata": {},
   "outputs": [],
   "source": []
  },
  {
   "cell_type": "code",
   "execution_count": 4,
   "metadata": {},
   "outputs": [
    {
     "name": "stderr",
     "output_type": "stream",
     "text": [
      "libpng warning: iCCP: known incorrect sRGB profile\n"
     ]
    }
   ],
   "source": [
    "winnie = cv2.imread(\"pngkey.com-winnie-the-pooh-png-414017.png\",cv2.IMREAD_UNCHANGED)"
   ]
  },
  {
   "cell_type": "code",
   "execution_count": 5,
   "metadata": {},
   "outputs": [],
   "source": [
    "faces = None\n",
    "result = cv2.VideoWriter('Winnie_the_Poop.mp4',cv2.VideoWriter_fourcc(*'mp4v'),29.98, (int(video.get(3)),int(video.get(4))))\n",
    "while True:\n",
    "    ret, frame = video.read()\n",
    "    if ret == True:\n",
    "        gray = cv2.cvtColor(frame, cv2.COLOR_BGR2GRAY)\n",
    "        faces_tmp = faceCasacadeClassifier.detectMultiScale(gray, scaleFactor=1.1, minNeighbors=5, minSize=(60, 60), flags=cv2.CASCADE_SCALE_IMAGE)\n",
    "        if (len(faces_tmp)>0):\n",
    "            faces = faces_tmp\n",
    "            # print(faces)\n",
    "        if faces is not None:\n",
    "            for (x,y,w,h) in faces:\n",
    "                tx = 120\n",
    "                ty = 120\n",
    "                x,y,w,h = x-tx+60, y-ty, w+tx, h+ty\n",
    "                winnie_t = cv2.resize(winnie,(w,h))\n",
    "                alpha_winnie = winnie_t[:,:,3]/255.0\n",
    "                alpha_v = 1.0 - alpha_winnie\n",
    "                for c in range(0,3):\n",
    "                    frame[y:y+h, x:x+w,c] = alpha_winnie*winnie_t[:,:,c] + alpha_v*frame[y:y+h, x:x+w,c]\n",
    "        result.write(frame)\n",
    "        # if cv2.waitKey(1) & 0xFF == ord('q'):\n",
    "        #     break\n",
    "    else:\n",
    "        break\n",
    "video.release()\n",
    "result.release()\n",
    "cv2.destroyAllWindows()\n",
    "\n"
   ]
  },
  {
   "cell_type": "code",
   "execution_count": 6,
   "metadata": {},
   "outputs": [],
   "source": [
    "from moviepy.editor import VideoFileClip"
   ]
  },
  {
   "cell_type": "code",
   "execution_count": 7,
   "metadata": {},
   "outputs": [],
   "source": [
    "audio = VideoFileClip(\"Xi Says China Will Not Fight Cold or Hot War With Anyone [GgWM-QU-Yew].webm\").audio\n",
    "video = VideoFileClip(\"Winnie_the_Poop.mp4\")"
   ]
  },
  {
   "cell_type": "code",
   "execution_count": 9,
   "metadata": {},
   "outputs": [],
   "source": [
    "video = video.set_audio(audioclip=audio)"
   ]
  },
  {
   "cell_type": "code",
   "execution_count": 10,
   "metadata": {},
   "outputs": [
    {
     "name": "stdout",
     "output_type": "stream",
     "text": [
      "Moviepy - Building video Final.mp4.\n",
      "MoviePy - Writing audio in FinalTEMP_MPY_wvf_snd.mp3\n"
     ]
    },
    {
     "name": "stderr",
     "output_type": "stream",
     "text": [
      "chunk:   0%|          | 0/1008 [00:00<?, ?it/s, now=None]"
     ]
    },
    {
     "name": "stderr",
     "output_type": "stream",
     "text": [
      "                                                                     \r"
     ]
    },
    {
     "name": "stdout",
     "output_type": "stream",
     "text": [
      "MoviePy - Done.\n",
      "Moviepy - Writing video Final.mp4\n",
      "\n"
     ]
    },
    {
     "name": "stderr",
     "output_type": "stream",
     "text": [
      "                                                                \r"
     ]
    },
    {
     "name": "stdout",
     "output_type": "stream",
     "text": [
      "Moviepy - Done !\n",
      "Moviepy - video ready Final.mp4\n"
     ]
    }
   ],
   "source": [
    "video.write_videofile(\"Final.mp4\",fps=29.98)"
   ]
  },
  {
   "cell_type": "code",
   "execution_count": null,
   "metadata": {},
   "outputs": [],
   "source": []
  }
 ],
 "metadata": {
  "kernelspec": {
   "display_name": ".venv",
   "language": "python",
   "name": "python3"
  },
  "language_info": {
   "codemirror_mode": {
    "name": "ipython",
    "version": 3
   },
   "file_extension": ".py",
   "mimetype": "text/x-python",
   "name": "python",
   "nbconvert_exporter": "python",
   "pygments_lexer": "ipython3",
   "version": "3.12.0"
  }
 },
 "nbformat": 4,
 "nbformat_minor": 2
}
